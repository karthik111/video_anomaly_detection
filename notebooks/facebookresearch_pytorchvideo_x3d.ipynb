{
  "cells": [
    {
      "cell_type": "markdown",
      "metadata": {
        "id": "view-in-github",
        "colab_type": "text"
      },
      "source": [
        "<a href=\"https://colab.research.google.com/github/karthik111/video_anomaly_detection/blob/master/notebooks/facebookresearch_pytorchvideo_x3d.ipynb\" target=\"_parent\"><img src=\"https://colab.research.google.com/assets/colab-badge.svg\" alt=\"Open In Colab\"/></a>"
      ]
    },
    {
      "cell_type": "markdown",
      "id": "3cf36826",
      "metadata": {
        "id": "3cf36826"
      },
      "source": [
        "# X3D\n",
        "\n",
        "*Author: FAIR PyTorchVideo*\n",
        "\n",
        "**X3D networks pretrained on the Kinetics 400 dataset**\n",
        "\n",
        "\n",
        "### Example Usage\n",
        "\n",
        "#### Imports\n",
        "\n",
        "Load the model:"
      ]
    },
    {
      "cell_type": "code",
      "source": [
        "pip install -U git+https://github.com/facebookresearch/fvcore.git"
      ],
      "metadata": {
        "id": "iz855NX71j3Y",
        "outputId": "82383f50-af5f-4f20-cb5c-9d9d511cf679",
        "colab": {
          "base_uri": "https://localhost:8080/"
        }
      },
      "id": "iz855NX71j3Y",
      "execution_count": 4,
      "outputs": [
        {
          "output_type": "stream",
          "name": "stdout",
          "text": [
            "Collecting git+https://github.com/facebookresearch/fvcore.git\n",
            "  Cloning https://github.com/facebookresearch/fvcore.git to /tmp/pip-req-build-k87gvghm\n",
            "  Running command git clone --filter=blob:none --quiet https://github.com/facebookresearch/fvcore.git /tmp/pip-req-build-k87gvghm\n",
            "  Resolved https://github.com/facebookresearch/fvcore.git to commit e8d19df2ffdaf0a78c8d88d6a2522c36b0cacb07\n",
            "  Preparing metadata (setup.py) ... \u001b[?25l\u001b[?25hdone\n",
            "Requirement already satisfied: numpy in /usr/local/lib/python3.10/dist-packages (from fvcore==0.1.6) (1.23.5)\n",
            "Collecting yacs>=0.1.6 (from fvcore==0.1.6)\n",
            "  Downloading yacs-0.1.8-py3-none-any.whl (14 kB)\n",
            "Requirement already satisfied: pyyaml>=5.1 in /usr/local/lib/python3.10/dist-packages (from fvcore==0.1.6) (6.0.1)\n",
            "Requirement already satisfied: tqdm in /usr/local/lib/python3.10/dist-packages (from fvcore==0.1.6) (4.66.1)\n",
            "Requirement already satisfied: termcolor>=1.1 in /usr/local/lib/python3.10/dist-packages (from fvcore==0.1.6) (2.4.0)\n",
            "Requirement already satisfied: Pillow in /usr/local/lib/python3.10/dist-packages (from fvcore==0.1.6) (9.4.0)\n",
            "Requirement already satisfied: tabulate in /usr/local/lib/python3.10/dist-packages (from fvcore==0.1.6) (0.9.0)\n",
            "Collecting iopath>=0.1.7 (from fvcore==0.1.6)\n",
            "  Downloading iopath-0.1.10.tar.gz (42 kB)\n",
            "\u001b[2K     \u001b[90m━━━━━━━━━━━━━━━━━━━━━━━━━━━━━━━━━━━━━━━━\u001b[0m \u001b[32m42.2/42.2 kB\u001b[0m \u001b[31m834.7 kB/s\u001b[0m eta \u001b[36m0:00:00\u001b[0m\n",
            "\u001b[?25h  Preparing metadata (setup.py) ... \u001b[?25l\u001b[?25hdone\n",
            "Requirement already satisfied: typing_extensions in /usr/local/lib/python3.10/dist-packages (from iopath>=0.1.7->fvcore==0.1.6) (4.5.0)\n",
            "Collecting portalocker (from iopath>=0.1.7->fvcore==0.1.6)\n",
            "  Downloading portalocker-2.8.2-py3-none-any.whl (17 kB)\n",
            "Building wheels for collected packages: fvcore, iopath\n",
            "  Building wheel for fvcore (setup.py) ... \u001b[?25l\u001b[?25hdone\n",
            "  Created wheel for fvcore: filename=fvcore-0.1.6-py3-none-any.whl size=65324 sha256=8021ef16e435c9725c47583223c8810a3fd9a768e0ed36cac7272364b82ec6f2\n",
            "  Stored in directory: /tmp/pip-ephem-wheel-cache-mnbkmcfj/wheels/8f/cb/6a/3b7ac0e01781855ca3d1417ebf9e15e20d5b7fe37ab063aa50\n",
            "  Building wheel for iopath (setup.py) ... \u001b[?25l\u001b[?25hdone\n",
            "  Created wheel for iopath: filename=iopath-0.1.10-py3-none-any.whl size=31532 sha256=bcb483364f32c23f61400eae4cda9405579e43e4494cc783c16765e05a59df73\n",
            "  Stored in directory: /root/.cache/pip/wheels/9a/a3/b6/ac0fcd1b4ed5cfeb3db92e6a0e476cfd48ed0df92b91080c1d\n",
            "Successfully built fvcore iopath\n",
            "Installing collected packages: yacs, portalocker, iopath, fvcore\n",
            "Successfully installed fvcore-0.1.6 iopath-0.1.10 portalocker-2.8.2 yacs-0.1.8\n"
          ]
        }
      ]
    },
    {
      "cell_type": "code",
      "execution_count": 24,
      "id": "384be33c",
      "metadata": {
        "id": "384be33c",
        "outputId": "cdc05fba-038a-4a69-a1ec-ef22f2d8f0e4",
        "colab": {
          "base_uri": "https://localhost:8080/"
        }
      },
      "outputs": [
        {
          "output_type": "stream",
          "name": "stderr",
          "text": [
            "Using cache found in /root/.cache/torch/hub/facebookresearch_pytorchvideo_main\n"
          ]
        }
      ],
      "source": [
        "import torch\n",
        "# Choose the `x3d_s` model\n",
        "model_name = 'x3d_s'\n",
        "model = torch.hub.load('facebookresearch/pytorchvideo', model_name, pretrained=True)"
      ]
    },
    {
      "cell_type": "markdown",
      "id": "09230eea",
      "metadata": {
        "id": "09230eea"
      },
      "source": [
        "Import remaining functions:"
      ]
    },
    {
      "cell_type": "code",
      "source": [
        "#model_name = \"i3d_r50\"\n",
        "#model = torch.hub.load(\"facebookresearch/pytorchvideo\", model=model_name, pretrained=True)"
      ],
      "metadata": {
        "id": "COFxUc3P2mUv",
        "outputId": "b32fa5cd-0dce-45f7-91fa-180ea438c426",
        "colab": {
          "base_uri": "https://localhost:8080/"
        }
      },
      "id": "COFxUc3P2mUv",
      "execution_count": 18,
      "outputs": [
        {
          "output_type": "stream",
          "name": "stderr",
          "text": [
            "Using cache found in /root/.cache/torch/hub/facebookresearch_pytorchvideo_main\n",
            "Downloading: \"https://dl.fbaipublicfiles.com/pytorchvideo/model_zoo/kinetics/I3D_8x8_R50.pyth\" to /root/.cache/torch/hub/checkpoints/I3D_8x8_R50.pyth\n",
            "100%|██████████| 214M/214M [00:00<00:00, 229MB/s]\n"
          ]
        }
      ]
    },
    {
      "cell_type": "code",
      "source": [
        "!pip install av"
      ],
      "metadata": {
        "id": "Ln-6x5bP2JiG",
        "outputId": "278c1523-518b-4cbb-a148-c20d9d2d0268",
        "colab": {
          "base_uri": "https://localhost:8080/"
        }
      },
      "id": "Ln-6x5bP2JiG",
      "execution_count": 9,
      "outputs": [
        {
          "output_type": "stream",
          "name": "stdout",
          "text": [
            "Collecting av\n",
            "  Downloading av-11.0.0-cp310-cp310-manylinux_2_17_x86_64.manylinux2014_x86_64.whl (32.9 MB)\n",
            "\u001b[2K     \u001b[90m━━━━━━━━━━━━━━━━━━━━━━━━━━━━━━━━━━━━━━━━\u001b[0m \u001b[32m32.9/32.9 MB\u001b[0m \u001b[31m36.3 MB/s\u001b[0m eta \u001b[36m0:00:00\u001b[0m\n",
            "\u001b[?25hInstalling collected packages: av\n",
            "Successfully installed av-11.0.0\n"
          ]
        }
      ]
    },
    {
      "cell_type": "code",
      "execution_count": 10,
      "id": "4a23470f",
      "metadata": {
        "id": "4a23470f",
        "outputId": "59189658-3e87-4377-e3a8-c2c4245d2403",
        "colab": {
          "base_uri": "https://localhost:8080/"
        }
      },
      "outputs": [
        {
          "output_type": "stream",
          "name": "stderr",
          "text": [
            "/usr/local/lib/python3.10/dist-packages/torchvision/transforms/_functional_video.py:6: UserWarning: The 'torchvision.transforms._functional_video' module is deprecated since 0.12 and will be removed in the future. Please use the 'torchvision.transforms.functional' module instead.\n",
            "  warnings.warn(\n",
            "/usr/local/lib/python3.10/dist-packages/torchvision/transforms/_transforms_video.py:22: UserWarning: The 'torchvision.transforms._transforms_video' module is deprecated since 0.12 and will be removed in the future. Please use the 'torchvision.transforms' module instead.\n",
            "  warnings.warn(\n"
          ]
        }
      ],
      "source": [
        "import json\n",
        "import urllib\n",
        "from pytorchvideo.data.encoded_video import EncodedVideo\n",
        "\n",
        "from torchvision.transforms import Compose, Lambda\n",
        "from torchvision.transforms._transforms_video import (\n",
        "    CenterCropVideo,\n",
        "    NormalizeVideo,\n",
        ")\n",
        "from pytorchvideo.transforms import (\n",
        "    ApplyTransformToKey,\n",
        "    ShortSideScale,\n",
        "    UniformTemporalSubsample\n",
        ")"
      ]
    },
    {
      "cell_type": "markdown",
      "id": "fdada4f9",
      "metadata": {
        "id": "fdada4f9"
      },
      "source": [
        "#### Setup\n",
        "\n",
        "Set the model to eval mode and move to desired device."
      ]
    },
    {
      "cell_type": "code",
      "execution_count": 11,
      "id": "3c94936a",
      "metadata": {
        "id": "3c94936a"
      },
      "outputs": [],
      "source": [
        "# Set to GPU or CPU\n",
        "device = \"cpu\"\n",
        "model = model.eval()\n",
        "model = model.to(device)"
      ]
    },
    {
      "cell_type": "markdown",
      "id": "c68100cf",
      "metadata": {
        "id": "c68100cf"
      },
      "source": [
        "Download the id to label mapping for the Kinetics 400 dataset on which the torch hub models were trained. This will be used to get the category label names from the predicted class ids."
      ]
    },
    {
      "cell_type": "code",
      "execution_count": 12,
      "id": "49652009",
      "metadata": {
        "id": "49652009"
      },
      "outputs": [],
      "source": [
        "json_url = \"https://dl.fbaipublicfiles.com/pyslowfast/dataset/class_names/kinetics_classnames.json\"\n",
        "json_filename = \"kinetics_classnames.json\"\n",
        "try: urllib.URLopener().retrieve(json_url, json_filename)\n",
        "except: urllib.request.urlretrieve(json_url, json_filename)"
      ]
    },
    {
      "cell_type": "code",
      "execution_count": 13,
      "id": "ce7b3f5d",
      "metadata": {
        "id": "ce7b3f5d"
      },
      "outputs": [],
      "source": [
        "with open(json_filename, \"r\") as f:\n",
        "    kinetics_classnames = json.load(f)\n",
        "\n",
        "# Create an id to label name mapping\n",
        "kinetics_id_to_classname = {}\n",
        "for k, v in kinetics_classnames.items():\n",
        "    kinetics_id_to_classname[v] = str(k).replace('\"', \"\")"
      ]
    },
    {
      "cell_type": "markdown",
      "id": "8294223f",
      "metadata": {
        "id": "8294223f"
      },
      "source": [
        "#### Define input transform"
      ]
    },
    {
      "cell_type": "code",
      "execution_count": 14,
      "id": "cd583689",
      "metadata": {
        "id": "cd583689"
      },
      "outputs": [],
      "source": [
        "mean = [0.45, 0.45, 0.45]\n",
        "std = [0.225, 0.225, 0.225]\n",
        "frames_per_second = 30\n",
        "model_transform_params  = {\n",
        "    \"x3d_xs\": {\n",
        "        \"side_size\": 182,\n",
        "        \"crop_size\": 182,\n",
        "        \"num_frames\": 4,\n",
        "        \"sampling_rate\": 12,\n",
        "    },\n",
        "    \"x3d_s\": {\n",
        "        \"side_size\": 182,\n",
        "        \"crop_size\": 182,\n",
        "        \"num_frames\": 13,\n",
        "        \"sampling_rate\": 6,\n",
        "    },\n",
        "    \"x3d_m\": {\n",
        "        \"side_size\": 256,\n",
        "        \"crop_size\": 256,\n",
        "        \"num_frames\": 16,\n",
        "        \"sampling_rate\": 5,\n",
        "    }\n",
        "}\n",
        "\n",
        "# Get transform parameters based on model\n",
        "transform_params = model_transform_params[model_name]\n",
        "\n",
        "# Note that this transform is specific to the slow_R50 model.\n",
        "transform =  ApplyTransformToKey(\n",
        "    key=\"video\",\n",
        "    transform=Compose(\n",
        "        [\n",
        "            UniformTemporalSubsample(transform_params[\"num_frames\"]),\n",
        "            Lambda(lambda x: x/255.0),\n",
        "            NormalizeVideo(mean, std),\n",
        "            ShortSideScale(size=transform_params[\"side_size\"]),\n",
        "            CenterCropVideo(\n",
        "                crop_size=(transform_params[\"crop_size\"], transform_params[\"crop_size\"])\n",
        "            )\n",
        "        ]\n",
        "    ),\n",
        ")\n",
        "\n",
        "# The duration of the input clip is also specific to the model.\n",
        "clip_duration = (transform_params[\"num_frames\"] * transform_params[\"sampling_rate\"])/frames_per_second"
      ]
    },
    {
      "cell_type": "markdown",
      "id": "dafcf4ff",
      "metadata": {
        "id": "dafcf4ff"
      },
      "source": [
        "#### Run Inference\n",
        "\n",
        "Download an example video."
      ]
    },
    {
      "cell_type": "code",
      "execution_count": 15,
      "id": "19ee02da",
      "metadata": {
        "id": "19ee02da"
      },
      "outputs": [],
      "source": [
        "url_link = \"https://dl.fbaipublicfiles.com/pytorchvideo/projects/archery.mp4\"\n",
        "video_path = 'archery.mp4'\n",
        "try: urllib.URLopener().retrieve(url_link, video_path)\n",
        "except: urllib.request.urlretrieve(url_link, video_path)"
      ]
    },
    {
      "cell_type": "markdown",
      "id": "b3968555",
      "metadata": {
        "id": "b3968555"
      },
      "source": [
        "Load the video and transform it to the input format required by the model."
      ]
    },
    {
      "cell_type": "code",
      "execution_count": 16,
      "id": "adb34eb3",
      "metadata": {
        "id": "adb34eb3"
      },
      "outputs": [],
      "source": [
        "# Select the duration of the clip to load by specifying the start and end duration\n",
        "# The start_sec should correspond to where the action occurs in the video\n",
        "start_sec = 0\n",
        "end_sec = start_sec + clip_duration\n",
        "\n",
        "# Initialize an EncodedVideo helper class and load the video\n",
        "video = EncodedVideo.from_path(video_path)\n",
        "\n",
        "# Load the desired clip\n",
        "video_data = video.get_clip(start_sec=start_sec, end_sec=end_sec)\n",
        "\n",
        "# Apply a transform to normalize the video input\n",
        "video_data = transform(video_data)\n",
        "\n",
        "# Move the inputs to the desired device\n",
        "inputs = video_data[\"video\"]\n",
        "inputs = inputs.to(device)"
      ]
    },
    {
      "cell_type": "markdown",
      "id": "b803431d",
      "metadata": {
        "id": "b803431d"
      },
      "source": [
        "#### Get Predictions"
      ]
    },
    {
      "cell_type": "code",
      "execution_count": 21,
      "id": "2bd02e50",
      "metadata": {
        "id": "2bd02e50",
        "outputId": "c58609f7-f51b-43ee-ad5a-adf32fd296ec",
        "colab": {
          "base_uri": "https://localhost:8080/"
        }
      },
      "outputs": [
        {
          "output_type": "stream",
          "name": "stdout",
          "text": [
            "Top 5 predicted labels: archery, golf driving, opening bottle, golf chipping, throwing axe\n"
          ]
        }
      ],
      "source": [
        "# Pass the input clip through the model\n",
        "preds = model(inputs[None, ...])\n",
        "\n",
        "# Get the predicted classes\n",
        "post_act = torch.nn.Softmax(dim=1)\n",
        "preds = post_act(preds)\n",
        "pred_classes = preds.topk(k=5).indices[0]\n",
        "\n",
        "# Map the predicted classes to the label names\n",
        "pred_class_names = [kinetics_id_to_classname[int(i)] for i in pred_classes]\n",
        "print(\"Top 5 predicted labels: %s\" % \", \".join(pred_class_names))"
      ]
    },
    {
      "cell_type": "markdown",
      "id": "790dc278",
      "metadata": {
        "id": "790dc278"
      },
      "source": [
        "### Model Description\n",
        "X3D model architectures are based on [1] pretrained on the Kinetics dataset.\n",
        "\n",
        "| arch | depth | frame length x sample rate | top 1 | top 5 | Flops (G) | Params (M) |\n",
        "| --------------- | ----------- | ----------- | ----------- | ----------- | ----------- |  ----------- | ----------- |\n",
        "| X3D      | XS    | 4x12                       | 69.12 | 88.63 | 0.91      | 3.79     |\n",
        "| X3D      | S     | 13x6                       | 73.33 | 91.27 | 2.96      | 3.79     |\n",
        "| X3D      | M     | 16x5                       | 75.94 | 92.72 | 6.72      | 3.79     |\n",
        "\n",
        "\n",
        "### References\n",
        "[1] Christoph Feichtenhofer, \"X3D: Expanding Architectures for\n",
        "    Efficient Video Recognition.\" https://arxiv.org/abs/2004.04730"
      ]
    },
    {
      "cell_type": "code",
      "source": [
        "import torch\n",
        "\n",
        "# Define a hook function to capture the output of a specific layer\n",
        "def hook_fn(module, input, output):\n",
        "    # Store the output tensor in a global variable\n",
        "    global output_from_5th_layer\n",
        "    global input_to_6th_layer\n",
        "    output_from_5th_layer = output\n",
        "    input_to_6th_layer = input\n",
        "\n",
        "# Assuming 'model' is your defined network\n",
        "#model = model.double()\n",
        "\n",
        "# Register the hook to the desired layer (5th layer in this case)\n",
        "target_layer = 5  # Index of the 6th layer\n",
        "hook = model.blocks[target_layer].register_forward_hook(hook_fn)\n",
        "\n",
        "# Set the model to evaluation mode\n",
        "model.eval()\n",
        "\n",
        "# Pass the input through the network\n",
        "output = model(inputs[None, ...])\n",
        "\n",
        "# The output_from_5th_layer variable now contains the features from the 5th layer\n",
        "# You can use this tensor for further analysis or processing\n",
        "\n",
        "# Remove the hook to avoid potential memory leaks\n",
        "hook.remove()"
      ],
      "metadata": {
        "id": "2lmEWvvl6hej"
      },
      "id": "2lmEWvvl6hej",
      "execution_count": 75,
      "outputs": []
    },
    {
      "cell_type": "code",
      "source": [
        "output_from_5th_layer.shape"
      ],
      "metadata": {
        "id": "E4gTnz4F6igm",
        "outputId": "b375e0a1-72d8-42bb-ea9b-9b57bb46bd0d",
        "colab": {
          "base_uri": "https://localhost:8080/"
        }
      },
      "id": "E4gTnz4F6igm",
      "execution_count": 35,
      "outputs": [
        {
          "output_type": "execute_result",
          "data": {
            "text/plain": [
              "torch.Size([1, 192, 13, 6, 6])"
            ]
          },
          "metadata": {},
          "execution_count": 35
        }
      ]
    },
    {
      "cell_type": "code",
      "source": [
        "input_to_6th_layer[0].shape"
      ],
      "metadata": {
        "id": "YteotVRPIEbq",
        "outputId": "1519ecff-4b4b-4180-f139-2da2827e33de",
        "colab": {
          "base_uri": "https://localhost:8080/"
        }
      },
      "id": "YteotVRPIEbq",
      "execution_count": 82,
      "outputs": [
        {
          "output_type": "execute_result",
          "data": {
            "text/plain": [
              "torch.Size([1, 192, 13, 6, 6])"
            ]
          },
          "metadata": {},
          "execution_count": 82
        }
      ]
    },
    {
      "cell_type": "code",
      "source": [
        "192*13*6*6"
      ],
      "metadata": {
        "id": "RgVkYWDX7UGO",
        "outputId": "0fb2c148-bde3-46e3-8cae-a14cedb72c09",
        "colab": {
          "base_uri": "https://localhost:8080/"
        }
      },
      "id": "RgVkYWDX7UGO",
      "execution_count": 28,
      "outputs": [
        {
          "output_type": "execute_result",
          "data": {
            "text/plain": [
              "89856"
            ]
          },
          "metadata": {},
          "execution_count": 28
        }
      ]
    },
    {
      "cell_type": "code",
      "source": [
        "for name, layer in model._modules.items():\n",
        "  print(f\"Name: {name}, Layer: {layer}\")"
      ],
      "metadata": {
        "id": "vUaSrFbN7bB2",
        "outputId": "43814d2e-94c8-4e82-c638-008b7d920f77",
        "colab": {
          "base_uri": "https://localhost:8080/"
        }
      },
      "id": "vUaSrFbN7bB2",
      "execution_count": 36,
      "outputs": [
        {
          "output_type": "stream",
          "name": "stdout",
          "text": [
            "Name: blocks, Layer: ModuleList(\n",
            "  (0): ResNetBasicStem(\n",
            "    (conv): Conv2plus1d(\n",
            "      (conv_t): Conv3d(3, 24, kernel_size=(1, 3, 3), stride=(1, 2, 2), padding=(0, 1, 1), bias=False)\n",
            "      (conv_xy): Conv3d(24, 24, kernel_size=(5, 1, 1), stride=(1, 1, 1), padding=(2, 0, 0), groups=24, bias=False)\n",
            "    )\n",
            "    (norm): BatchNorm3d(24, eps=1e-05, momentum=0.1, affine=True, track_running_stats=True)\n",
            "    (activation): ReLU()\n",
            "  )\n",
            "  (1): ResStage(\n",
            "    (res_blocks): ModuleList(\n",
            "      (0): ResBlock(\n",
            "        (branch1_conv): Conv3d(24, 24, kernel_size=(1, 1, 1), stride=(1, 2, 2), bias=False)\n",
            "        (branch2): BottleneckBlock(\n",
            "          (conv_a): Conv3d(24, 54, kernel_size=(1, 1, 1), stride=(1, 1, 1), bias=False)\n",
            "          (norm_a): BatchNorm3d(54, eps=1e-05, momentum=0.1, affine=True, track_running_stats=True)\n",
            "          (act_a): ReLU()\n",
            "          (conv_b): Conv3d(54, 54, kernel_size=(3, 3, 3), stride=(1, 2, 2), padding=(1, 1, 1), groups=54, bias=False)\n",
            "          (norm_b): Sequential(\n",
            "            (0): BatchNorm3d(54, eps=1e-05, momentum=0.1, affine=True, track_running_stats=True)\n",
            "            (1): SqueezeExcitation(\n",
            "              (block): Sequential(\n",
            "                (0): Conv3d(54, 8, kernel_size=(1, 1, 1), stride=(1, 1, 1))\n",
            "                (1): ReLU()\n",
            "                (2): Conv3d(8, 54, kernel_size=(1, 1, 1), stride=(1, 1, 1))\n",
            "                (3): Sigmoid()\n",
            "              )\n",
            "            )\n",
            "          )\n",
            "          (act_b): Swish()\n",
            "          (conv_c): Conv3d(54, 24, kernel_size=(1, 1, 1), stride=(1, 1, 1), bias=False)\n",
            "          (norm_c): BatchNorm3d(24, eps=1e-05, momentum=0.1, affine=True, track_running_stats=True)\n",
            "        )\n",
            "        (activation): ReLU()\n",
            "      )\n",
            "      (1): ResBlock(\n",
            "        (branch2): BottleneckBlock(\n",
            "          (conv_a): Conv3d(24, 54, kernel_size=(1, 1, 1), stride=(1, 1, 1), bias=False)\n",
            "          (norm_a): BatchNorm3d(54, eps=1e-05, momentum=0.1, affine=True, track_running_stats=True)\n",
            "          (act_a): ReLU()\n",
            "          (conv_b): Conv3d(54, 54, kernel_size=(3, 3, 3), stride=(1, 1, 1), padding=(1, 1, 1), groups=54, bias=False)\n",
            "          (norm_b): Sequential(\n",
            "            (0): BatchNorm3d(54, eps=1e-05, momentum=0.1, affine=True, track_running_stats=True)\n",
            "            (1): Identity()\n",
            "          )\n",
            "          (act_b): Swish()\n",
            "          (conv_c): Conv3d(54, 24, kernel_size=(1, 1, 1), stride=(1, 1, 1), bias=False)\n",
            "          (norm_c): BatchNorm3d(24, eps=1e-05, momentum=0.1, affine=True, track_running_stats=True)\n",
            "        )\n",
            "        (activation): ReLU()\n",
            "      )\n",
            "      (2): ResBlock(\n",
            "        (branch2): BottleneckBlock(\n",
            "          (conv_a): Conv3d(24, 54, kernel_size=(1, 1, 1), stride=(1, 1, 1), bias=False)\n",
            "          (norm_a): BatchNorm3d(54, eps=1e-05, momentum=0.1, affine=True, track_running_stats=True)\n",
            "          (act_a): ReLU()\n",
            "          (conv_b): Conv3d(54, 54, kernel_size=(3, 3, 3), stride=(1, 1, 1), padding=(1, 1, 1), groups=54, bias=False)\n",
            "          (norm_b): Sequential(\n",
            "            (0): BatchNorm3d(54, eps=1e-05, momentum=0.1, affine=True, track_running_stats=True)\n",
            "            (1): SqueezeExcitation(\n",
            "              (block): Sequential(\n",
            "                (0): Conv3d(54, 8, kernel_size=(1, 1, 1), stride=(1, 1, 1))\n",
            "                (1): ReLU()\n",
            "                (2): Conv3d(8, 54, kernel_size=(1, 1, 1), stride=(1, 1, 1))\n",
            "                (3): Sigmoid()\n",
            "              )\n",
            "            )\n",
            "          )\n",
            "          (act_b): Swish()\n",
            "          (conv_c): Conv3d(54, 24, kernel_size=(1, 1, 1), stride=(1, 1, 1), bias=False)\n",
            "          (norm_c): BatchNorm3d(24, eps=1e-05, momentum=0.1, affine=True, track_running_stats=True)\n",
            "        )\n",
            "        (activation): ReLU()\n",
            "      )\n",
            "    )\n",
            "  )\n",
            "  (2): ResStage(\n",
            "    (res_blocks): ModuleList(\n",
            "      (0): ResBlock(\n",
            "        (branch1_conv): Conv3d(24, 48, kernel_size=(1, 1, 1), stride=(1, 2, 2), bias=False)\n",
            "        (branch1_norm): BatchNorm3d(48, eps=1e-05, momentum=0.1, affine=True, track_running_stats=True)\n",
            "        (branch2): BottleneckBlock(\n",
            "          (conv_a): Conv3d(24, 108, kernel_size=(1, 1, 1), stride=(1, 1, 1), bias=False)\n",
            "          (norm_a): BatchNorm3d(108, eps=1e-05, momentum=0.1, affine=True, track_running_stats=True)\n",
            "          (act_a): ReLU()\n",
            "          (conv_b): Conv3d(108, 108, kernel_size=(3, 3, 3), stride=(1, 2, 2), padding=(1, 1, 1), groups=108, bias=False)\n",
            "          (norm_b): Sequential(\n",
            "            (0): BatchNorm3d(108, eps=1e-05, momentum=0.1, affine=True, track_running_stats=True)\n",
            "            (1): SqueezeExcitation(\n",
            "              (block): Sequential(\n",
            "                (0): Conv3d(108, 8, kernel_size=(1, 1, 1), stride=(1, 1, 1))\n",
            "                (1): ReLU()\n",
            "                (2): Conv3d(8, 108, kernel_size=(1, 1, 1), stride=(1, 1, 1))\n",
            "                (3): Sigmoid()\n",
            "              )\n",
            "            )\n",
            "          )\n",
            "          (act_b): Swish()\n",
            "          (conv_c): Conv3d(108, 48, kernel_size=(1, 1, 1), stride=(1, 1, 1), bias=False)\n",
            "          (norm_c): BatchNorm3d(48, eps=1e-05, momentum=0.1, affine=True, track_running_stats=True)\n",
            "        )\n",
            "        (activation): ReLU()\n",
            "      )\n",
            "      (1): ResBlock(\n",
            "        (branch2): BottleneckBlock(\n",
            "          (conv_a): Conv3d(48, 108, kernel_size=(1, 1, 1), stride=(1, 1, 1), bias=False)\n",
            "          (norm_a): BatchNorm3d(108, eps=1e-05, momentum=0.1, affine=True, track_running_stats=True)\n",
            "          (act_a): ReLU()\n",
            "          (conv_b): Conv3d(108, 108, kernel_size=(3, 3, 3), stride=(1, 1, 1), padding=(1, 1, 1), groups=108, bias=False)\n",
            "          (norm_b): Sequential(\n",
            "            (0): BatchNorm3d(108, eps=1e-05, momentum=0.1, affine=True, track_running_stats=True)\n",
            "            (1): Identity()\n",
            "          )\n",
            "          (act_b): Swish()\n",
            "          (conv_c): Conv3d(108, 48, kernel_size=(1, 1, 1), stride=(1, 1, 1), bias=False)\n",
            "          (norm_c): BatchNorm3d(48, eps=1e-05, momentum=0.1, affine=True, track_running_stats=True)\n",
            "        )\n",
            "        (activation): ReLU()\n",
            "      )\n",
            "      (2): ResBlock(\n",
            "        (branch2): BottleneckBlock(\n",
            "          (conv_a): Conv3d(48, 108, kernel_size=(1, 1, 1), stride=(1, 1, 1), bias=False)\n",
            "          (norm_a): BatchNorm3d(108, eps=1e-05, momentum=0.1, affine=True, track_running_stats=True)\n",
            "          (act_a): ReLU()\n",
            "          (conv_b): Conv3d(108, 108, kernel_size=(3, 3, 3), stride=(1, 1, 1), padding=(1, 1, 1), groups=108, bias=False)\n",
            "          (norm_b): Sequential(\n",
            "            (0): BatchNorm3d(108, eps=1e-05, momentum=0.1, affine=True, track_running_stats=True)\n",
            "            (1): SqueezeExcitation(\n",
            "              (block): Sequential(\n",
            "                (0): Conv3d(108, 8, kernel_size=(1, 1, 1), stride=(1, 1, 1))\n",
            "                (1): ReLU()\n",
            "                (2): Conv3d(8, 108, kernel_size=(1, 1, 1), stride=(1, 1, 1))\n",
            "                (3): Sigmoid()\n",
            "              )\n",
            "            )\n",
            "          )\n",
            "          (act_b): Swish()\n",
            "          (conv_c): Conv3d(108, 48, kernel_size=(1, 1, 1), stride=(1, 1, 1), bias=False)\n",
            "          (norm_c): BatchNorm3d(48, eps=1e-05, momentum=0.1, affine=True, track_running_stats=True)\n",
            "        )\n",
            "        (activation): ReLU()\n",
            "      )\n",
            "      (3): ResBlock(\n",
            "        (branch2): BottleneckBlock(\n",
            "          (conv_a): Conv3d(48, 108, kernel_size=(1, 1, 1), stride=(1, 1, 1), bias=False)\n",
            "          (norm_a): BatchNorm3d(108, eps=1e-05, momentum=0.1, affine=True, track_running_stats=True)\n",
            "          (act_a): ReLU()\n",
            "          (conv_b): Conv3d(108, 108, kernel_size=(3, 3, 3), stride=(1, 1, 1), padding=(1, 1, 1), groups=108, bias=False)\n",
            "          (norm_b): Sequential(\n",
            "            (0): BatchNorm3d(108, eps=1e-05, momentum=0.1, affine=True, track_running_stats=True)\n",
            "            (1): Identity()\n",
            "          )\n",
            "          (act_b): Swish()\n",
            "          (conv_c): Conv3d(108, 48, kernel_size=(1, 1, 1), stride=(1, 1, 1), bias=False)\n",
            "          (norm_c): BatchNorm3d(48, eps=1e-05, momentum=0.1, affine=True, track_running_stats=True)\n",
            "        )\n",
            "        (activation): ReLU()\n",
            "      )\n",
            "      (4): ResBlock(\n",
            "        (branch2): BottleneckBlock(\n",
            "          (conv_a): Conv3d(48, 108, kernel_size=(1, 1, 1), stride=(1, 1, 1), bias=False)\n",
            "          (norm_a): BatchNorm3d(108, eps=1e-05, momentum=0.1, affine=True, track_running_stats=True)\n",
            "          (act_a): ReLU()\n",
            "          (conv_b): Conv3d(108, 108, kernel_size=(3, 3, 3), stride=(1, 1, 1), padding=(1, 1, 1), groups=108, bias=False)\n",
            "          (norm_b): Sequential(\n",
            "            (0): BatchNorm3d(108, eps=1e-05, momentum=0.1, affine=True, track_running_stats=True)\n",
            "            (1): SqueezeExcitation(\n",
            "              (block): Sequential(\n",
            "                (0): Conv3d(108, 8, kernel_size=(1, 1, 1), stride=(1, 1, 1))\n",
            "                (1): ReLU()\n",
            "                (2): Conv3d(8, 108, kernel_size=(1, 1, 1), stride=(1, 1, 1))\n",
            "                (3): Sigmoid()\n",
            "              )\n",
            "            )\n",
            "          )\n",
            "          (act_b): Swish()\n",
            "          (conv_c): Conv3d(108, 48, kernel_size=(1, 1, 1), stride=(1, 1, 1), bias=False)\n",
            "          (norm_c): BatchNorm3d(48, eps=1e-05, momentum=0.1, affine=True, track_running_stats=True)\n",
            "        )\n",
            "        (activation): ReLU()\n",
            "      )\n",
            "    )\n",
            "  )\n",
            "  (3): ResStage(\n",
            "    (res_blocks): ModuleList(\n",
            "      (0): ResBlock(\n",
            "        (branch1_conv): Conv3d(48, 96, kernel_size=(1, 1, 1), stride=(1, 2, 2), bias=False)\n",
            "        (branch1_norm): BatchNorm3d(96, eps=1e-05, momentum=0.1, affine=True, track_running_stats=True)\n",
            "        (branch2): BottleneckBlock(\n",
            "          (conv_a): Conv3d(48, 216, kernel_size=(1, 1, 1), stride=(1, 1, 1), bias=False)\n",
            "          (norm_a): BatchNorm3d(216, eps=1e-05, momentum=0.1, affine=True, track_running_stats=True)\n",
            "          (act_a): ReLU()\n",
            "          (conv_b): Conv3d(216, 216, kernel_size=(3, 3, 3), stride=(1, 2, 2), padding=(1, 1, 1), groups=216, bias=False)\n",
            "          (norm_b): Sequential(\n",
            "            (0): BatchNorm3d(216, eps=1e-05, momentum=0.1, affine=True, track_running_stats=True)\n",
            "            (1): SqueezeExcitation(\n",
            "              (block): Sequential(\n",
            "                (0): Conv3d(216, 16, kernel_size=(1, 1, 1), stride=(1, 1, 1))\n",
            "                (1): ReLU()\n",
            "                (2): Conv3d(16, 216, kernel_size=(1, 1, 1), stride=(1, 1, 1))\n",
            "                (3): Sigmoid()\n",
            "              )\n",
            "            )\n",
            "          )\n",
            "          (act_b): Swish()\n",
            "          (conv_c): Conv3d(216, 96, kernel_size=(1, 1, 1), stride=(1, 1, 1), bias=False)\n",
            "          (norm_c): BatchNorm3d(96, eps=1e-05, momentum=0.1, affine=True, track_running_stats=True)\n",
            "        )\n",
            "        (activation): ReLU()\n",
            "      )\n",
            "      (1): ResBlock(\n",
            "        (branch2): BottleneckBlock(\n",
            "          (conv_a): Conv3d(96, 216, kernel_size=(1, 1, 1), stride=(1, 1, 1), bias=False)\n",
            "          (norm_a): BatchNorm3d(216, eps=1e-05, momentum=0.1, affine=True, track_running_stats=True)\n",
            "          (act_a): ReLU()\n",
            "          (conv_b): Conv3d(216, 216, kernel_size=(3, 3, 3), stride=(1, 1, 1), padding=(1, 1, 1), groups=216, bias=False)\n",
            "          (norm_b): Sequential(\n",
            "            (0): BatchNorm3d(216, eps=1e-05, momentum=0.1, affine=True, track_running_stats=True)\n",
            "            (1): Identity()\n",
            "          )\n",
            "          (act_b): Swish()\n",
            "          (conv_c): Conv3d(216, 96, kernel_size=(1, 1, 1), stride=(1, 1, 1), bias=False)\n",
            "          (norm_c): BatchNorm3d(96, eps=1e-05, momentum=0.1, affine=True, track_running_stats=True)\n",
            "        )\n",
            "        (activation): ReLU()\n",
            "      )\n",
            "      (2): ResBlock(\n",
            "        (branch2): BottleneckBlock(\n",
            "          (conv_a): Conv3d(96, 216, kernel_size=(1, 1, 1), stride=(1, 1, 1), bias=False)\n",
            "          (norm_a): BatchNorm3d(216, eps=1e-05, momentum=0.1, affine=True, track_running_stats=True)\n",
            "          (act_a): ReLU()\n",
            "          (conv_b): Conv3d(216, 216, kernel_size=(3, 3, 3), stride=(1, 1, 1), padding=(1, 1, 1), groups=216, bias=False)\n",
            "          (norm_b): Sequential(\n",
            "            (0): BatchNorm3d(216, eps=1e-05, momentum=0.1, affine=True, track_running_stats=True)\n",
            "            (1): SqueezeExcitation(\n",
            "              (block): Sequential(\n",
            "                (0): Conv3d(216, 16, kernel_size=(1, 1, 1), stride=(1, 1, 1))\n",
            "                (1): ReLU()\n",
            "                (2): Conv3d(16, 216, kernel_size=(1, 1, 1), stride=(1, 1, 1))\n",
            "                (3): Sigmoid()\n",
            "              )\n",
            "            )\n",
            "          )\n",
            "          (act_b): Swish()\n",
            "          (conv_c): Conv3d(216, 96, kernel_size=(1, 1, 1), stride=(1, 1, 1), bias=False)\n",
            "          (norm_c): BatchNorm3d(96, eps=1e-05, momentum=0.1, affine=True, track_running_stats=True)\n",
            "        )\n",
            "        (activation): ReLU()\n",
            "      )\n",
            "      (3): ResBlock(\n",
            "        (branch2): BottleneckBlock(\n",
            "          (conv_a): Conv3d(96, 216, kernel_size=(1, 1, 1), stride=(1, 1, 1), bias=False)\n",
            "          (norm_a): BatchNorm3d(216, eps=1e-05, momentum=0.1, affine=True, track_running_stats=True)\n",
            "          (act_a): ReLU()\n",
            "          (conv_b): Conv3d(216, 216, kernel_size=(3, 3, 3), stride=(1, 1, 1), padding=(1, 1, 1), groups=216, bias=False)\n",
            "          (norm_b): Sequential(\n",
            "            (0): BatchNorm3d(216, eps=1e-05, momentum=0.1, affine=True, track_running_stats=True)\n",
            "            (1): Identity()\n",
            "          )\n",
            "          (act_b): Swish()\n",
            "          (conv_c): Conv3d(216, 96, kernel_size=(1, 1, 1), stride=(1, 1, 1), bias=False)\n",
            "          (norm_c): BatchNorm3d(96, eps=1e-05, momentum=0.1, affine=True, track_running_stats=True)\n",
            "        )\n",
            "        (activation): ReLU()\n",
            "      )\n",
            "      (4): ResBlock(\n",
            "        (branch2): BottleneckBlock(\n",
            "          (conv_a): Conv3d(96, 216, kernel_size=(1, 1, 1), stride=(1, 1, 1), bias=False)\n",
            "          (norm_a): BatchNorm3d(216, eps=1e-05, momentum=0.1, affine=True, track_running_stats=True)\n",
            "          (act_a): ReLU()\n",
            "          (conv_b): Conv3d(216, 216, kernel_size=(3, 3, 3), stride=(1, 1, 1), padding=(1, 1, 1), groups=216, bias=False)\n",
            "          (norm_b): Sequential(\n",
            "            (0): BatchNorm3d(216, eps=1e-05, momentum=0.1, affine=True, track_running_stats=True)\n",
            "            (1): SqueezeExcitation(\n",
            "              (block): Sequential(\n",
            "                (0): Conv3d(216, 16, kernel_size=(1, 1, 1), stride=(1, 1, 1))\n",
            "                (1): ReLU()\n",
            "                (2): Conv3d(16, 216, kernel_size=(1, 1, 1), stride=(1, 1, 1))\n",
            "                (3): Sigmoid()\n",
            "              )\n",
            "            )\n",
            "          )\n",
            "          (act_b): Swish()\n",
            "          (conv_c): Conv3d(216, 96, kernel_size=(1, 1, 1), stride=(1, 1, 1), bias=False)\n",
            "          (norm_c): BatchNorm3d(96, eps=1e-05, momentum=0.1, affine=True, track_running_stats=True)\n",
            "        )\n",
            "        (activation): ReLU()\n",
            "      )\n",
            "      (5): ResBlock(\n",
            "        (branch2): BottleneckBlock(\n",
            "          (conv_a): Conv3d(96, 216, kernel_size=(1, 1, 1), stride=(1, 1, 1), bias=False)\n",
            "          (norm_a): BatchNorm3d(216, eps=1e-05, momentum=0.1, affine=True, track_running_stats=True)\n",
            "          (act_a): ReLU()\n",
            "          (conv_b): Conv3d(216, 216, kernel_size=(3, 3, 3), stride=(1, 1, 1), padding=(1, 1, 1), groups=216, bias=False)\n",
            "          (norm_b): Sequential(\n",
            "            (0): BatchNorm3d(216, eps=1e-05, momentum=0.1, affine=True, track_running_stats=True)\n",
            "            (1): Identity()\n",
            "          )\n",
            "          (act_b): Swish()\n",
            "          (conv_c): Conv3d(216, 96, kernel_size=(1, 1, 1), stride=(1, 1, 1), bias=False)\n",
            "          (norm_c): BatchNorm3d(96, eps=1e-05, momentum=0.1, affine=True, track_running_stats=True)\n",
            "        )\n",
            "        (activation): ReLU()\n",
            "      )\n",
            "      (6): ResBlock(\n",
            "        (branch2): BottleneckBlock(\n",
            "          (conv_a): Conv3d(96, 216, kernel_size=(1, 1, 1), stride=(1, 1, 1), bias=False)\n",
            "          (norm_a): BatchNorm3d(216, eps=1e-05, momentum=0.1, affine=True, track_running_stats=True)\n",
            "          (act_a): ReLU()\n",
            "          (conv_b): Conv3d(216, 216, kernel_size=(3, 3, 3), stride=(1, 1, 1), padding=(1, 1, 1), groups=216, bias=False)\n",
            "          (norm_b): Sequential(\n",
            "            (0): BatchNorm3d(216, eps=1e-05, momentum=0.1, affine=True, track_running_stats=True)\n",
            "            (1): SqueezeExcitation(\n",
            "              (block): Sequential(\n",
            "                (0): Conv3d(216, 16, kernel_size=(1, 1, 1), stride=(1, 1, 1))\n",
            "                (1): ReLU()\n",
            "                (2): Conv3d(16, 216, kernel_size=(1, 1, 1), stride=(1, 1, 1))\n",
            "                (3): Sigmoid()\n",
            "              )\n",
            "            )\n",
            "          )\n",
            "          (act_b): Swish()\n",
            "          (conv_c): Conv3d(216, 96, kernel_size=(1, 1, 1), stride=(1, 1, 1), bias=False)\n",
            "          (norm_c): BatchNorm3d(96, eps=1e-05, momentum=0.1, affine=True, track_running_stats=True)\n",
            "        )\n",
            "        (activation): ReLU()\n",
            "      )\n",
            "      (7): ResBlock(\n",
            "        (branch2): BottleneckBlock(\n",
            "          (conv_a): Conv3d(96, 216, kernel_size=(1, 1, 1), stride=(1, 1, 1), bias=False)\n",
            "          (norm_a): BatchNorm3d(216, eps=1e-05, momentum=0.1, affine=True, track_running_stats=True)\n",
            "          (act_a): ReLU()\n",
            "          (conv_b): Conv3d(216, 216, kernel_size=(3, 3, 3), stride=(1, 1, 1), padding=(1, 1, 1), groups=216, bias=False)\n",
            "          (norm_b): Sequential(\n",
            "            (0): BatchNorm3d(216, eps=1e-05, momentum=0.1, affine=True, track_running_stats=True)\n",
            "            (1): Identity()\n",
            "          )\n",
            "          (act_b): Swish()\n",
            "          (conv_c): Conv3d(216, 96, kernel_size=(1, 1, 1), stride=(1, 1, 1), bias=False)\n",
            "          (norm_c): BatchNorm3d(96, eps=1e-05, momentum=0.1, affine=True, track_running_stats=True)\n",
            "        )\n",
            "        (activation): ReLU()\n",
            "      )\n",
            "      (8): ResBlock(\n",
            "        (branch2): BottleneckBlock(\n",
            "          (conv_a): Conv3d(96, 216, kernel_size=(1, 1, 1), stride=(1, 1, 1), bias=False)\n",
            "          (norm_a): BatchNorm3d(216, eps=1e-05, momentum=0.1, affine=True, track_running_stats=True)\n",
            "          (act_a): ReLU()\n",
            "          (conv_b): Conv3d(216, 216, kernel_size=(3, 3, 3), stride=(1, 1, 1), padding=(1, 1, 1), groups=216, bias=False)\n",
            "          (norm_b): Sequential(\n",
            "            (0): BatchNorm3d(216, eps=1e-05, momentum=0.1, affine=True, track_running_stats=True)\n",
            "            (1): SqueezeExcitation(\n",
            "              (block): Sequential(\n",
            "                (0): Conv3d(216, 16, kernel_size=(1, 1, 1), stride=(1, 1, 1))\n",
            "                (1): ReLU()\n",
            "                (2): Conv3d(16, 216, kernel_size=(1, 1, 1), stride=(1, 1, 1))\n",
            "                (3): Sigmoid()\n",
            "              )\n",
            "            )\n",
            "          )\n",
            "          (act_b): Swish()\n",
            "          (conv_c): Conv3d(216, 96, kernel_size=(1, 1, 1), stride=(1, 1, 1), bias=False)\n",
            "          (norm_c): BatchNorm3d(96, eps=1e-05, momentum=0.1, affine=True, track_running_stats=True)\n",
            "        )\n",
            "        (activation): ReLU()\n",
            "      )\n",
            "      (9): ResBlock(\n",
            "        (branch2): BottleneckBlock(\n",
            "          (conv_a): Conv3d(96, 216, kernel_size=(1, 1, 1), stride=(1, 1, 1), bias=False)\n",
            "          (norm_a): BatchNorm3d(216, eps=1e-05, momentum=0.1, affine=True, track_running_stats=True)\n",
            "          (act_a): ReLU()\n",
            "          (conv_b): Conv3d(216, 216, kernel_size=(3, 3, 3), stride=(1, 1, 1), padding=(1, 1, 1), groups=216, bias=False)\n",
            "          (norm_b): Sequential(\n",
            "            (0): BatchNorm3d(216, eps=1e-05, momentum=0.1, affine=True, track_running_stats=True)\n",
            "            (1): Identity()\n",
            "          )\n",
            "          (act_b): Swish()\n",
            "          (conv_c): Conv3d(216, 96, kernel_size=(1, 1, 1), stride=(1, 1, 1), bias=False)\n",
            "          (norm_c): BatchNorm3d(96, eps=1e-05, momentum=0.1, affine=True, track_running_stats=True)\n",
            "        )\n",
            "        (activation): ReLU()\n",
            "      )\n",
            "      (10): ResBlock(\n",
            "        (branch2): BottleneckBlock(\n",
            "          (conv_a): Conv3d(96, 216, kernel_size=(1, 1, 1), stride=(1, 1, 1), bias=False)\n",
            "          (norm_a): BatchNorm3d(216, eps=1e-05, momentum=0.1, affine=True, track_running_stats=True)\n",
            "          (act_a): ReLU()\n",
            "          (conv_b): Conv3d(216, 216, kernel_size=(3, 3, 3), stride=(1, 1, 1), padding=(1, 1, 1), groups=216, bias=False)\n",
            "          (norm_b): Sequential(\n",
            "            (0): BatchNorm3d(216, eps=1e-05, momentum=0.1, affine=True, track_running_stats=True)\n",
            "            (1): SqueezeExcitation(\n",
            "              (block): Sequential(\n",
            "                (0): Conv3d(216, 16, kernel_size=(1, 1, 1), stride=(1, 1, 1))\n",
            "                (1): ReLU()\n",
            "                (2): Conv3d(16, 216, kernel_size=(1, 1, 1), stride=(1, 1, 1))\n",
            "                (3): Sigmoid()\n",
            "              )\n",
            "            )\n",
            "          )\n",
            "          (act_b): Swish()\n",
            "          (conv_c): Conv3d(216, 96, kernel_size=(1, 1, 1), stride=(1, 1, 1), bias=False)\n",
            "          (norm_c): BatchNorm3d(96, eps=1e-05, momentum=0.1, affine=True, track_running_stats=True)\n",
            "        )\n",
            "        (activation): ReLU()\n",
            "      )\n",
            "    )\n",
            "  )\n",
            "  (4): ResStage(\n",
            "    (res_blocks): ModuleList(\n",
            "      (0): ResBlock(\n",
            "        (branch1_conv): Conv3d(96, 192, kernel_size=(1, 1, 1), stride=(1, 2, 2), bias=False)\n",
            "        (branch1_norm): BatchNorm3d(192, eps=1e-05, momentum=0.1, affine=True, track_running_stats=True)\n",
            "        (branch2): BottleneckBlock(\n",
            "          (conv_a): Conv3d(96, 432, kernel_size=(1, 1, 1), stride=(1, 1, 1), bias=False)\n",
            "          (norm_a): BatchNorm3d(432, eps=1e-05, momentum=0.1, affine=True, track_running_stats=True)\n",
            "          (act_a): ReLU()\n",
            "          (conv_b): Conv3d(432, 432, kernel_size=(3, 3, 3), stride=(1, 2, 2), padding=(1, 1, 1), groups=432, bias=False)\n",
            "          (norm_b): Sequential(\n",
            "            (0): BatchNorm3d(432, eps=1e-05, momentum=0.1, affine=True, track_running_stats=True)\n",
            "            (1): SqueezeExcitation(\n",
            "              (block): Sequential(\n",
            "                (0): Conv3d(432, 32, kernel_size=(1, 1, 1), stride=(1, 1, 1))\n",
            "                (1): ReLU()\n",
            "                (2): Conv3d(32, 432, kernel_size=(1, 1, 1), stride=(1, 1, 1))\n",
            "                (3): Sigmoid()\n",
            "              )\n",
            "            )\n",
            "          )\n",
            "          (act_b): Swish()\n",
            "          (conv_c): Conv3d(432, 192, kernel_size=(1, 1, 1), stride=(1, 1, 1), bias=False)\n",
            "          (norm_c): BatchNorm3d(192, eps=1e-05, momentum=0.1, affine=True, track_running_stats=True)\n",
            "        )\n",
            "        (activation): ReLU()\n",
            "      )\n",
            "      (1): ResBlock(\n",
            "        (branch2): BottleneckBlock(\n",
            "          (conv_a): Conv3d(192, 432, kernel_size=(1, 1, 1), stride=(1, 1, 1), bias=False)\n",
            "          (norm_a): BatchNorm3d(432, eps=1e-05, momentum=0.1, affine=True, track_running_stats=True)\n",
            "          (act_a): ReLU()\n",
            "          (conv_b): Conv3d(432, 432, kernel_size=(3, 3, 3), stride=(1, 1, 1), padding=(1, 1, 1), groups=432, bias=False)\n",
            "          (norm_b): Sequential(\n",
            "            (0): BatchNorm3d(432, eps=1e-05, momentum=0.1, affine=True, track_running_stats=True)\n",
            "            (1): Identity()\n",
            "          )\n",
            "          (act_b): Swish()\n",
            "          (conv_c): Conv3d(432, 192, kernel_size=(1, 1, 1), stride=(1, 1, 1), bias=False)\n",
            "          (norm_c): BatchNorm3d(192, eps=1e-05, momentum=0.1, affine=True, track_running_stats=True)\n",
            "        )\n",
            "        (activation): ReLU()\n",
            "      )\n",
            "      (2): ResBlock(\n",
            "        (branch2): BottleneckBlock(\n",
            "          (conv_a): Conv3d(192, 432, kernel_size=(1, 1, 1), stride=(1, 1, 1), bias=False)\n",
            "          (norm_a): BatchNorm3d(432, eps=1e-05, momentum=0.1, affine=True, track_running_stats=True)\n",
            "          (act_a): ReLU()\n",
            "          (conv_b): Conv3d(432, 432, kernel_size=(3, 3, 3), stride=(1, 1, 1), padding=(1, 1, 1), groups=432, bias=False)\n",
            "          (norm_b): Sequential(\n",
            "            (0): BatchNorm3d(432, eps=1e-05, momentum=0.1, affine=True, track_running_stats=True)\n",
            "            (1): SqueezeExcitation(\n",
            "              (block): Sequential(\n",
            "                (0): Conv3d(432, 32, kernel_size=(1, 1, 1), stride=(1, 1, 1))\n",
            "                (1): ReLU()\n",
            "                (2): Conv3d(32, 432, kernel_size=(1, 1, 1), stride=(1, 1, 1))\n",
            "                (3): Sigmoid()\n",
            "              )\n",
            "            )\n",
            "          )\n",
            "          (act_b): Swish()\n",
            "          (conv_c): Conv3d(432, 192, kernel_size=(1, 1, 1), stride=(1, 1, 1), bias=False)\n",
            "          (norm_c): BatchNorm3d(192, eps=1e-05, momentum=0.1, affine=True, track_running_stats=True)\n",
            "        )\n",
            "        (activation): ReLU()\n",
            "      )\n",
            "      (3): ResBlock(\n",
            "        (branch2): BottleneckBlock(\n",
            "          (conv_a): Conv3d(192, 432, kernel_size=(1, 1, 1), stride=(1, 1, 1), bias=False)\n",
            "          (norm_a): BatchNorm3d(432, eps=1e-05, momentum=0.1, affine=True, track_running_stats=True)\n",
            "          (act_a): ReLU()\n",
            "          (conv_b): Conv3d(432, 432, kernel_size=(3, 3, 3), stride=(1, 1, 1), padding=(1, 1, 1), groups=432, bias=False)\n",
            "          (norm_b): Sequential(\n",
            "            (0): BatchNorm3d(432, eps=1e-05, momentum=0.1, affine=True, track_running_stats=True)\n",
            "            (1): Identity()\n",
            "          )\n",
            "          (act_b): Swish()\n",
            "          (conv_c): Conv3d(432, 192, kernel_size=(1, 1, 1), stride=(1, 1, 1), bias=False)\n",
            "          (norm_c): BatchNorm3d(192, eps=1e-05, momentum=0.1, affine=True, track_running_stats=True)\n",
            "        )\n",
            "        (activation): ReLU()\n",
            "      )\n",
            "      (4): ResBlock(\n",
            "        (branch2): BottleneckBlock(\n",
            "          (conv_a): Conv3d(192, 432, kernel_size=(1, 1, 1), stride=(1, 1, 1), bias=False)\n",
            "          (norm_a): BatchNorm3d(432, eps=1e-05, momentum=0.1, affine=True, track_running_stats=True)\n",
            "          (act_a): ReLU()\n",
            "          (conv_b): Conv3d(432, 432, kernel_size=(3, 3, 3), stride=(1, 1, 1), padding=(1, 1, 1), groups=432, bias=False)\n",
            "          (norm_b): Sequential(\n",
            "            (0): BatchNorm3d(432, eps=1e-05, momentum=0.1, affine=True, track_running_stats=True)\n",
            "            (1): SqueezeExcitation(\n",
            "              (block): Sequential(\n",
            "                (0): Conv3d(432, 32, kernel_size=(1, 1, 1), stride=(1, 1, 1))\n",
            "                (1): ReLU()\n",
            "                (2): Conv3d(32, 432, kernel_size=(1, 1, 1), stride=(1, 1, 1))\n",
            "                (3): Sigmoid()\n",
            "              )\n",
            "            )\n",
            "          )\n",
            "          (act_b): Swish()\n",
            "          (conv_c): Conv3d(432, 192, kernel_size=(1, 1, 1), stride=(1, 1, 1), bias=False)\n",
            "          (norm_c): BatchNorm3d(192, eps=1e-05, momentum=0.1, affine=True, track_running_stats=True)\n",
            "        )\n",
            "        (activation): ReLU()\n",
            "      )\n",
            "      (5): ResBlock(\n",
            "        (branch2): BottleneckBlock(\n",
            "          (conv_a): Conv3d(192, 432, kernel_size=(1, 1, 1), stride=(1, 1, 1), bias=False)\n",
            "          (norm_a): BatchNorm3d(432, eps=1e-05, momentum=0.1, affine=True, track_running_stats=True)\n",
            "          (act_a): ReLU()\n",
            "          (conv_b): Conv3d(432, 432, kernel_size=(3, 3, 3), stride=(1, 1, 1), padding=(1, 1, 1), groups=432, bias=False)\n",
            "          (norm_b): Sequential(\n",
            "            (0): BatchNorm3d(432, eps=1e-05, momentum=0.1, affine=True, track_running_stats=True)\n",
            "            (1): Identity()\n",
            "          )\n",
            "          (act_b): Swish()\n",
            "          (conv_c): Conv3d(432, 192, kernel_size=(1, 1, 1), stride=(1, 1, 1), bias=False)\n",
            "          (norm_c): BatchNorm3d(192, eps=1e-05, momentum=0.1, affine=True, track_running_stats=True)\n",
            "        )\n",
            "        (activation): ReLU()\n",
            "      )\n",
            "      (6): ResBlock(\n",
            "        (branch2): BottleneckBlock(\n",
            "          (conv_a): Conv3d(192, 432, kernel_size=(1, 1, 1), stride=(1, 1, 1), bias=False)\n",
            "          (norm_a): BatchNorm3d(432, eps=1e-05, momentum=0.1, affine=True, track_running_stats=True)\n",
            "          (act_a): ReLU()\n",
            "          (conv_b): Conv3d(432, 432, kernel_size=(3, 3, 3), stride=(1, 1, 1), padding=(1, 1, 1), groups=432, bias=False)\n",
            "          (norm_b): Sequential(\n",
            "            (0): BatchNorm3d(432, eps=1e-05, momentum=0.1, affine=True, track_running_stats=True)\n",
            "            (1): SqueezeExcitation(\n",
            "              (block): Sequential(\n",
            "                (0): Conv3d(432, 32, kernel_size=(1, 1, 1), stride=(1, 1, 1))\n",
            "                (1): ReLU()\n",
            "                (2): Conv3d(32, 432, kernel_size=(1, 1, 1), stride=(1, 1, 1))\n",
            "                (3): Sigmoid()\n",
            "              )\n",
            "            )\n",
            "          )\n",
            "          (act_b): Swish()\n",
            "          (conv_c): Conv3d(432, 192, kernel_size=(1, 1, 1), stride=(1, 1, 1), bias=False)\n",
            "          (norm_c): BatchNorm3d(192, eps=1e-05, momentum=0.1, affine=True, track_running_stats=True)\n",
            "        )\n",
            "        (activation): ReLU()\n",
            "      )\n",
            "    )\n",
            "  )\n",
            "  (5): ResNetBasicHead(\n",
            "    (pool): ProjectedPool(\n",
            "      (pre_conv): Conv3d(192, 432, kernel_size=(1, 1, 1), stride=(1, 1, 1), bias=False)\n",
            "      (pre_norm): BatchNorm3d(432, eps=1e-05, momentum=0.1, affine=True, track_running_stats=True)\n",
            "      (pre_act): ReLU()\n",
            "      (pool): AvgPool3d(kernel_size=(13, 5, 5), stride=1, padding=0)\n",
            "      (post_conv): Conv3d(432, 2048, kernel_size=(1, 1, 1), stride=(1, 1, 1), bias=False)\n",
            "      (post_act): ReLU()\n",
            "    )\n",
            "    (dropout): Dropout(p=0.5, inplace=False)\n",
            "    (proj): Linear(in_features=2048, out_features=400, bias=True)\n",
            "    (output_pool): AdaptiveAvgPool3d(output_size=1)\n",
            "  )\n",
            ")\n"
          ]
        }
      ]
    },
    {
      "cell_type": "code",
      "source": [
        "block5 = model.blocks[5]\n"
      ],
      "metadata": {
        "id": "CYjk4bwp7dVE"
      },
      "id": "CYjk4bwp7dVE",
      "execution_count": 85,
      "outputs": []
    },
    {
      "cell_type": "code",
      "source": [
        "modules = block5.named_modules()"
      ],
      "metadata": {
        "id": "2fSpVWdZDovl"
      },
      "id": "2fSpVWdZDovl",
      "execution_count": 86,
      "outputs": []
    },
    {
      "cell_type": "code",
      "source": [
        "for name, module in modules:\n",
        "  print(f\"Name: {name}, Module: {module}\")\n",
        "  if name == 'proj':\n",
        "    print(f'adding hook to Name: {name}, Module: {module}')\n",
        "    module.register_forward_hook(hook_fn)"
      ],
      "metadata": {
        "id": "4Q7A0NcHE7Lf",
        "outputId": "18c14793-e56f-45b7-c4b4-7da8f57b28d6",
        "colab": {
          "base_uri": "https://localhost:8080/"
        }
      },
      "id": "4Q7A0NcHE7Lf",
      "execution_count": 87,
      "outputs": [
        {
          "output_type": "stream",
          "name": "stdout",
          "text": [
            "Name: , Module: ResNetBasicHead(\n",
            "  (pool): ProjectedPool(\n",
            "    (pre_conv): Conv3d(192, 432, kernel_size=(1, 1, 1), stride=(1, 1, 1), bias=False)\n",
            "    (pre_norm): BatchNorm3d(432, eps=1e-05, momentum=0.1, affine=True, track_running_stats=True)\n",
            "    (pre_act): ReLU()\n",
            "    (pool): AvgPool3d(kernel_size=(13, 5, 5), stride=1, padding=0)\n",
            "    (post_conv): Conv3d(432, 2048, kernel_size=(1, 1, 1), stride=(1, 1, 1), bias=False)\n",
            "    (post_act): ReLU()\n",
            "  )\n",
            "  (dropout): Dropout(p=0.5, inplace=False)\n",
            "  (proj): Linear(in_features=2048, out_features=400, bias=True)\n",
            "  (output_pool): AdaptiveAvgPool3d(output_size=1)\n",
            ")\n",
            "Name: pool, Module: ProjectedPool(\n",
            "  (pre_conv): Conv3d(192, 432, kernel_size=(1, 1, 1), stride=(1, 1, 1), bias=False)\n",
            "  (pre_norm): BatchNorm3d(432, eps=1e-05, momentum=0.1, affine=True, track_running_stats=True)\n",
            "  (pre_act): ReLU()\n",
            "  (pool): AvgPool3d(kernel_size=(13, 5, 5), stride=1, padding=0)\n",
            "  (post_conv): Conv3d(432, 2048, kernel_size=(1, 1, 1), stride=(1, 1, 1), bias=False)\n",
            "  (post_act): ReLU()\n",
            ")\n",
            "Name: pool.pre_conv, Module: Conv3d(192, 432, kernel_size=(1, 1, 1), stride=(1, 1, 1), bias=False)\n",
            "Name: pool.pre_norm, Module: BatchNorm3d(432, eps=1e-05, momentum=0.1, affine=True, track_running_stats=True)\n",
            "Name: pool.pre_act, Module: ReLU()\n",
            "Name: pool.pool, Module: AvgPool3d(kernel_size=(13, 5, 5), stride=1, padding=0)\n",
            "Name: pool.post_conv, Module: Conv3d(432, 2048, kernel_size=(1, 1, 1), stride=(1, 1, 1), bias=False)\n",
            "Name: pool.post_act, Module: ReLU()\n",
            "Name: dropout, Module: Dropout(p=0.5, inplace=False)\n",
            "Name: proj, Module: Linear(in_features=2048, out_features=400, bias=True)\n",
            "adding hook to Name: proj, Module: Linear(in_features=2048, out_features=400, bias=True)\n",
            "Name: output_pool, Module: AdaptiveAvgPool3d(output_size=1)\n"
          ]
        }
      ]
    },
    {
      "cell_type": "code",
      "source": [
        "# Set the model to evaluation mode\n",
        "model.eval()\n",
        "\n",
        "# Pass the input through the network\n",
        "output = model(inputs[None, ...])\n",
        "\n",
        "# The output_from_5th_layer variable now contains the features from the 5th layer\n",
        "# You can use this tensor for further analysis or processing\n",
        "\n",
        "# Remove the hook to avoid potential memory leaks\n",
        "hook.remove()"
      ],
      "metadata": {
        "id": "MJARlgLcF856"
      },
      "id": "MJARlgLcF856",
      "execution_count": 99,
      "outputs": []
    },
    {
      "cell_type": "code",
      "source": [
        "output_from_5th_layer.shape"
      ],
      "metadata": {
        "id": "BGYC-usxF9iM",
        "outputId": "7e90f7b5-2575-4eb5-b3eb-505278c89a49",
        "colab": {
          "base_uri": "https://localhost:8080/"
        }
      },
      "id": "BGYC-usxF9iM",
      "execution_count": 100,
      "outputs": [
        {
          "output_type": "execute_result",
          "data": {
            "text/plain": [
              "torch.Size([1, 1, 2, 2, 400])"
            ]
          },
          "metadata": {},
          "execution_count": 100
        }
      ]
    },
    {
      "cell_type": "code",
      "source": [
        "input_to_6th_layer[0].shape"
      ],
      "metadata": {
        "id": "iWa7IdrDF_n8",
        "outputId": "39ee7cbc-63b4-48bc-ef25-7b2a0e28637e",
        "colab": {
          "base_uri": "https://localhost:8080/"
        }
      },
      "id": "iWa7IdrDF_n8",
      "execution_count": 105,
      "outputs": [
        {
          "output_type": "execute_result",
          "data": {
            "text/plain": [
              "torch.Size([1, 1, 2, 2, 2048])"
            ]
          },
          "metadata": {},
          "execution_count": 105
        }
      ]
    },
    {
      "cell_type": "code",
      "source": [
        "import torch.nn as nn\n",
        "# Define AdaptiveAvgPool3d layer with output size [1, 1, 1]\n",
        "adaptive_pool = nn.AdaptiveAvgPool3d(output_size=(2048))\n",
        "\n",
        "# Apply adaptive pooling to the input tensor\n",
        "output = adaptive_pool(input_to_6th_layer[0])\n",
        "\n",
        "# Output shape after adaptive average pooling\n",
        "print(output.shape)"
      ],
      "metadata": {
        "id": "nU-ruWDnIyGH",
        "outputId": "795c7b7b-7cc9-4792-fcf6-8aab0f304bce",
        "colab": {
          "base_uri": "https://localhost:8080/"
        }
      },
      "id": "nU-ruWDnIyGH",
      "execution_count": 104,
      "outputs": [
        {
          "output_type": "stream",
          "name": "stdout",
          "text": [
            "torch.Size([1, 1, 2048, 2048, 2048])\n"
          ]
        }
      ]
    },
    {
      "cell_type": "code",
      "source": [],
      "metadata": {
        "id": "rKDPIW56KVH8"
      },
      "id": "rKDPIW56KVH8",
      "execution_count": null,
      "outputs": []
    }
  ],
  "metadata": {
    "colab": {
      "provenance": [],
      "machine_shape": "hm",
      "include_colab_link": true
    },
    "language_info": {
      "name": "python"
    },
    "kernelspec": {
      "name": "python3",
      "display_name": "Python 3"
    }
  },
  "nbformat": 4,
  "nbformat_minor": 5
}