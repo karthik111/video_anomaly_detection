{
  "cells": [
    {
      "cell_type": "markdown",
      "metadata": {
        "id": "view-in-github",
        "colab_type": "text"
      },
      "source": [
        "<a href=\"https://colab.research.google.com/github/karthik111/video_anomaly_detection/blob/master/notebooks/Gluon_demo_i3d_kinetics400.ipynb\" target=\"_parent\"><img src=\"https://colab.research.google.com/assets/colab-badge.svg\" alt=\"Open In Colab\"/></a>"
      ]
    },
    {
      "cell_type": "code",
      "execution_count": null,
      "metadata": {
        "id": "zqHf2CAEHcAc"
      },
      "outputs": [],
      "source": [
        "%matplotlib inline"
      ]
    },
    {
      "cell_type": "markdown",
      "metadata": {
        "id": "LbOuxjL_HcAe"
      },
      "source": [
        "# 1. Getting Started with Pre-trained I3D Models on Kinetcis400\n",
        "\n",
        "`Kinetics400 <https://deepmind.com/research/open-source/kinetics>`_  is an action recognition dataset\n",
        "of realistic action videos, collected from YouTube. With 306,245 short trimmed videos\n",
        "from 400 action categories, it is one of the largest and most widely used dataset in the research\n",
        "community for benchmarking state-of-the-art video action recognition models.\n",
        "\n",
        "`I3D <https://arxiv.org/abs/1705.07750>`_ (Inflated 3D Networks) is a widely adopted 3D video\n",
        "classification network. It uses 3D convolution to learn spatiotemporal information directly from videos.\n",
        "I3D is proposed to improve `C3D <https://arxiv.org/abs/1412.0767>`_ (Convolutional 3D Networks) by inflating from 2D models.\n",
        "We can not only reuse the 2D models' architecture (e.g., ResNet, Inception), but also bootstrap\n",
        "the model weights from 2D pretrained models. In this manner, training 3D networks for video\n",
        "classification is feasible and getting much better results.\n",
        "\n",
        "In this tutorial, we will demonstrate how to load a pre-trained I3D model from `gluoncv-model-zoo`\n",
        "and classify a video clip from the Internet or your local disk into one of the 400 action classes.\n",
        "\n",
        "## Step by Step\n",
        "\n",
        "We will try out a pre-trained I3D model on a single video clip.\n",
        "\n",
        "First, please follow the `installation guide <../../index.html#installation>`__\n",
        "to install ``PyTorch`` and ``GluonCV`` if you haven't done so yet.\n",
        "\n"
      ]
    },
    {
      "cell_type": "code",
      "execution_count": null,
      "metadata": {
        "id": "XZgkpApZHcAf"
      },
      "outputs": [],
      "source": [
        "import numpy as np\n",
        "import decord\n",
        "import torch\n",
        "\n",
        "from gluoncv.torch.utils.model_utils import download\n",
        "from gluoncv.torch.data.transforms.videotransforms import video_transforms, volume_transforms\n",
        "from gluoncv.torch.engine.config import get_cfg_defaults\n",
        "from gluoncv.torch.model_zoo import get_model"
      ]
    },
    {
      "cell_type": "markdown",
      "metadata": {
        "id": "GP_cPkMJHcAf"
      },
      "source": [
        "Then, we download a video and extract a 32-frame clip from it.\n",
        "\n"
      ]
    },
    {
      "cell_type": "code",
      "execution_count": null,
      "metadata": {
        "id": "ZUuGQw_rHcAg"
      },
      "outputs": [],
      "source": [
        "url = 'https://github.com/bryanyzhu/tiny-ucf101/raw/master/abseiling_k400.mp4'\n",
        "video_fname = download(url)\n",
        "vr = decord.VideoReader(video_fname)\n",
        "frame_id_list = range(0, 64, 2)\n",
        "video_data = vr.get_batch(frame_id_list).asnumpy()"
      ]
    },
    {
      "cell_type": "markdown",
      "metadata": {
        "id": "uTsPaF1WHcAg"
      },
      "source": [
        "Now we define transformations for the video clip.\n",
        "This transformation function does four things:\n",
        "(1) resize the shorter side of video clip to short_side_size,\n",
        "(2) center crop the video clip to crop_size x crop_size,\n",
        "(3) transpose the video clip to ``num_channels*num_frames*height*width``,\n",
        "and (4) normalize it with mean and standard deviation calculated across all ImageNet images.\n",
        "\n"
      ]
    },
    {
      "cell_type": "code",
      "execution_count": null,
      "metadata": {
        "id": "NjC7j7mlHcAg"
      },
      "outputs": [],
      "source": [
        "crop_size = 224\n",
        "short_side_size = 256\n",
        "transform_fn = video_transforms.Compose([video_transforms.Resize(short_side_size, interpolation='bilinear'),\n",
        "                                         video_transforms.CenterCrop(size=(crop_size, crop_size)),\n",
        "                                         volume_transforms.ClipToTensor(),\n",
        "                                         video_transforms.Normalize(mean=[0.485, 0.456, 0.406], std=[0.229, 0.224, 0.225])])\n",
        "\n",
        "\n",
        "clip_input = transform_fn(video_data)\n",
        "print('Video data is downloaded and preprocessed.')"
      ]
    },
    {
      "cell_type": "markdown",
      "metadata": {
        "id": "c-TS7KCZHcAg"
      },
      "source": [
        "Next, we load a pre-trained I3D model. Make sure to change the ``pretrained`` in the configuration file to True.\n",
        "\n"
      ]
    },
    {
      "cell_type": "code",
      "execution_count": null,
      "metadata": {
        "id": "W09Rw0YAHcAg"
      },
      "outputs": [],
      "source": [
        "config_file = '../../../scripts/action-recognition/configuration/i3d_resnet50_v1_kinetics400.yaml'\n",
        "cfg = get_cfg_defaults()\n",
        "cfg.merge_from_file(config_file)\n",
        "model = get_model(cfg)\n",
        "model.eval()\n",
        "print('%s model is successfully loaded.' % cfg.CONFIG.MODEL.NAME)"
      ]
    },
    {
      "cell_type": "markdown",
      "metadata": {
        "id": "VuwpsD-4HcAh"
      },
      "source": [
        "Finally, we prepare the video clip and feed it to the model.\n",
        "\n"
      ]
    },
    {
      "cell_type": "code",
      "execution_count": null,
      "metadata": {
        "id": "f2NYAzgNHcAh"
      },
      "outputs": [],
      "source": [
        "with torch.no_grad():\n",
        "    pred = model(torch.unsqueeze(clip_input, dim=0)).numpy()\n",
        "print('The input video clip is classified to be class %d' % (np.argmax(pred)))"
      ]
    },
    {
      "cell_type": "markdown",
      "metadata": {
        "id": "g71NhM0BHcAh"
      },
      "source": [
        "We can see that our pre-trained model predicts this video clip\n",
        "to be ``abseiling`` action with high confidence.\n",
        "\n"
      ]
    },
    {
      "cell_type": "markdown",
      "metadata": {
        "id": "8I8vy6IhHcAh"
      },
      "source": [
        "## Next Step\n",
        "\n",
        "If you would like to dive deeper into finetuing SOTA video models on your datasets,\n",
        "feel free to read the next `tutorial on finetuning <finetune_custom.html>`__.\n",
        "\n"
      ]
    }
  ],
  "metadata": {
    "kernelspec": {
      "display_name": "Python 3",
      "language": "python",
      "name": "python3"
    },
    "language_info": {
      "codemirror_mode": {
        "name": "ipython",
        "version": 3
      },
      "file_extension": ".py",
      "mimetype": "text/x-python",
      "name": "python",
      "nbconvert_exporter": "python",
      "pygments_lexer": "ipython3",
      "version": "3.6.9"
    },
    "colab": {
      "provenance": [],
      "include_colab_link": true
    }
  },
  "nbformat": 4,
  "nbformat_minor": 0
}